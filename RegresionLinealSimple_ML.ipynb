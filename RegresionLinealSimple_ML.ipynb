{
 "cells": [
  {
   "cell_type": "markdown",
   "id": "1d0297a2",
   "metadata": {},
   "source": [
    "<h1 Style='color:#14327e'>Programa Técnico de Análisis de Datos</h1>\n",
    "<h3 Style='color:#14327e'>Curso: Introducción a Machine Learning</h3>\n",
    "<h5 Style='color:#14327e'>Ejemplo: Regresión Lineal Simple</h5>\n",
    "<p Style='text-align: allow'> El presente ejemplo programado pretende motivar el análisis respecto a la generación de un modelo de regresión lineal simple, para ello, continuaremos con el ejemplo del cuatrimestre anterior sobre los vehículos, de manera que buscaremos generar una predicción del valor de consumo de combustible un carro en función de la variable mas predominante para determinar su costo.<p/>\n",
    "<p Style='text-align: allow'>En ese ejercicio, este requiere del analisis de cada una de las lineas de codigo por parte de los estudiantes sentido, de manera que se propicie un espacio de investigacion y consultas sobre el tema bajo estudio. <p/>"
   ]
  },
  {
   "cell_type": "markdown",
   "id": "cb7e455d",
   "metadata": {},
   "source": [
    "<h4 Style='color:#ecbd5c'>Importando las Librerias necesarias<h4>\n",
    "<p Style='text-align: justify; font-style: normal; font-weight: normal'>Como es de su conocimiento las librerias permiten desarrollar la funcionalidad y los codigos fuentes necesarios para la manipulacion de los datos, entre las que se abordaron el cuatrimestre anterior tenemos Pandas, Numpy, y Matplotlib. <br>\n",
    "<br>\n",
    "    En este ejercicio conoceremos una nueva libreria Sklearn, especificamente las funcionalidades asociadas a los modelos lineales, siendo esta el principal insumo para implementar una regresion lineal simple. <br>\n",
    "<br>\n",
    "    En el siguiente enlace podran consultar y leer mas sobre la libreria Sklearn, especificamente el modulo de modelos lineales. </p>\n",
    "<br>\n",
    "<br>\n",
    "    <td Style='text-align: justify; font-style: normal; font-weight: normal'><a href=\\\"https://scikit-learn.org/stable/modules/generated/sklearn.linear_model .LinearRegression.html\\\">Libreria SKlearn, modelo de regresión lineal. Insumo para lectura</a></td>"
   ]
  },
  {
   "cell_type": "code",
   "execution_count": 17,
   "id": "0cb39f3f",
   "metadata": {},
   "outputs": [],
   "source": [
    "import matplotlib.pyplot as plt\n",
    "import pandas as pd\n",
    "import numpy as np\n",
    "from sklearn import linear_model"
   ]
  },
  {
   "cell_type": "markdown",
   "id": "dd3329d5",
   "metadata": {},
   "source": [
    "<h4 Style='color:#ecbd5c'>Carga de datos para el modelo<h4>\n",
    "<p Style='text-align: justificar; font-style: normal; font-weight: normal'> El proceso de carga de datos se realizó de la misma manera en la cual se efectuo durante el curso anterior, sin embargo, previo a realizar la carga es necesario aportar los siguientes metadatos. </p>\n",
    "<h5 Style='color:#179fa1'>Metadatos del conjunto para análisis (ConsumoCombustible.csv)<h5>\n",
    "<p Style='text-align: Justify; font-style: normal; font-weight: normal'> Hemos obetnido un conjunto de datos de consumo de combustible, FuelConsumption.csv, que contiene clasificaciones de consumo de combustible específicas del modelo y emisiones estimadas de dióxido de carbono para vehículos ligeros nuevos para la venta minorista en un pais. \n",
    "    <br>\n",
    "<br>A continuacion se identifican las variables y un ejemplo de los valores para conocer cual es el dominio de esa variable: </p>\n",
    "<img src=\"meta.png\\\" alt=\\\"Metadatos\\\" width=\\\"300\\\">"
   ]
  },
  {
   "cell_type": "code",
   "execution_count": 3,
   "id": "6c450910",
   "metadata": {},
   "outputs": [
    {
     "data": {
      "text/html": [
       "<div>\n",
       "<style scoped>\n",
       "    .dataframe tbody tr th:only-of-type {\n",
       "        vertical-align: middle;\n",
       "    }\n",
       "\n",
       "    .dataframe tbody tr th {\n",
       "        vertical-align: top;\n",
       "    }\n",
       "\n",
       "    .dataframe thead th {\n",
       "        text-align: right;\n",
       "    }\n",
       "</style>\n",
       "<table border=\"1\" class=\"dataframe\">\n",
       "  <thead>\n",
       "    <tr style=\"text-align: right;\">\n",
       "      <th></th>\n",
       "      <th>MODELYEAR</th>\n",
       "      <th>MAKE</th>\n",
       "      <th>MODEL</th>\n",
       "      <th>VEHICLECLASS</th>\n",
       "      <th>ENGINESIZE</th>\n",
       "      <th>CYLINDERS</th>\n",
       "      <th>TRANSMISSION</th>\n",
       "      <th>FUELTYPE</th>\n",
       "      <th>FUELCONSUMPTION_CITY</th>\n",
       "      <th>FUELCONSUMPTION_HWY</th>\n",
       "      <th>FUELCONSUMPTION_COMB</th>\n",
       "      <th>FUELCONSUMPTION_COMB_MPG</th>\n",
       "      <th>CO2EMISSIONS</th>\n",
       "    </tr>\n",
       "  </thead>\n",
       "  <tbody>\n",
       "    <tr>\n",
       "      <th>0</th>\n",
       "      <td>2014</td>\n",
       "      <td>ACURA</td>\n",
       "      <td>ILX</td>\n",
       "      <td>COMPACT</td>\n",
       "      <td>2.0</td>\n",
       "      <td>4</td>\n",
       "      <td>AS5</td>\n",
       "      <td>Z</td>\n",
       "      <td>9.9</td>\n",
       "      <td>6.7</td>\n",
       "      <td>8.5</td>\n",
       "      <td>33</td>\n",
       "      <td>196</td>\n",
       "    </tr>\n",
       "    <tr>\n",
       "      <th>1</th>\n",
       "      <td>2014</td>\n",
       "      <td>ACURA</td>\n",
       "      <td>ILX</td>\n",
       "      <td>COMPACT</td>\n",
       "      <td>2.4</td>\n",
       "      <td>4</td>\n",
       "      <td>M6</td>\n",
       "      <td>Z</td>\n",
       "      <td>11.2</td>\n",
       "      <td>7.7</td>\n",
       "      <td>9.6</td>\n",
       "      <td>29</td>\n",
       "      <td>221</td>\n",
       "    </tr>\n",
       "    <tr>\n",
       "      <th>2</th>\n",
       "      <td>2014</td>\n",
       "      <td>ACURA</td>\n",
       "      <td>ILX HYBRID</td>\n",
       "      <td>COMPACT</td>\n",
       "      <td>1.5</td>\n",
       "      <td>4</td>\n",
       "      <td>AV7</td>\n",
       "      <td>Z</td>\n",
       "      <td>6.0</td>\n",
       "      <td>5.8</td>\n",
       "      <td>5.9</td>\n",
       "      <td>48</td>\n",
       "      <td>136</td>\n",
       "    </tr>\n",
       "    <tr>\n",
       "      <th>3</th>\n",
       "      <td>2014</td>\n",
       "      <td>ACURA</td>\n",
       "      <td>MDX 4WD</td>\n",
       "      <td>SUV - SMALL</td>\n",
       "      <td>3.5</td>\n",
       "      <td>6</td>\n",
       "      <td>AS6</td>\n",
       "      <td>Z</td>\n",
       "      <td>12.7</td>\n",
       "      <td>9.1</td>\n",
       "      <td>11.1</td>\n",
       "      <td>25</td>\n",
       "      <td>255</td>\n",
       "    </tr>\n",
       "    <tr>\n",
       "      <th>4</th>\n",
       "      <td>2014</td>\n",
       "      <td>ACURA</td>\n",
       "      <td>RDX AWD</td>\n",
       "      <td>SUV - SMALL</td>\n",
       "      <td>3.5</td>\n",
       "      <td>6</td>\n",
       "      <td>AS6</td>\n",
       "      <td>Z</td>\n",
       "      <td>12.1</td>\n",
       "      <td>8.7</td>\n",
       "      <td>10.6</td>\n",
       "      <td>27</td>\n",
       "      <td>244</td>\n",
       "    </tr>\n",
       "  </tbody>\n",
       "</table>\n",
       "</div>"
      ],
      "text/plain": [
       "   MODELYEAR   MAKE       MODEL VEHICLECLASS  ENGINESIZE  CYLINDERS  \\\n",
       "0       2014  ACURA         ILX      COMPACT         2.0          4   \n",
       "1       2014  ACURA         ILX      COMPACT         2.4          4   \n",
       "2       2014  ACURA  ILX HYBRID      COMPACT         1.5          4   \n",
       "3       2014  ACURA     MDX 4WD  SUV - SMALL         3.5          6   \n",
       "4       2014  ACURA     RDX AWD  SUV - SMALL         3.5          6   \n",
       "\n",
       "  TRANSMISSION FUELTYPE  FUELCONSUMPTION_CITY  FUELCONSUMPTION_HWY  \\\n",
       "0          AS5        Z                   9.9                  6.7   \n",
       "1           M6        Z                  11.2                  7.7   \n",
       "2          AV7        Z                   6.0                  5.8   \n",
       "3          AS6        Z                  12.7                  9.1   \n",
       "4          AS6        Z                  12.1                  8.7   \n",
       "\n",
       "   FUELCONSUMPTION_COMB  FUELCONSUMPTION_COMB_MPG  CO2EMISSIONS  \n",
       "0                   8.5                        33           196  \n",
       "1                   9.6                        29           221  \n",
       "2                   5.9                        48           136  \n",
       "3                  11.1                        25           255  \n",
       "4                  10.6                        27           244  "
      ]
     },
     "execution_count": 3,
     "metadata": {},
     "output_type": "execute_result"
    }
   ],
   "source": [
    "df = pd.read_csv(\"FuelConsumption.csv\")\n",
    "\n",
    "# Observemos el set de datos\n",
    "df.head(5)"
   ]
  },
  {
   "cell_type": "markdown",
   "id": "a371244d",
   "metadata": {},
   "source": [
    "<h4 Style='color:#ecbd5c'>Una exploración rápida de los datos<h4>\n",
    "<p Style='text-align: justificar; font-style: normal; font-weight: normal'> Como este ejercicio se centra en el desarrollo de un modelo de regresión linea, y con el propósito de no hacerlo extenso, para su analisis. Se realizaa una exploracion rapida para identifcar y conocer en la generalidad los datos disponibles en el set de datos.\n",
    "<br>\n",
    "<br>\n",
    "Sin embargo, esto no sustituye los pasos aprendidos durante el cuatrimestre anterior, siempre es necesario conocer y gestionar adecuadamente el conjunto de datos para su análisis y diseño de modelos predictivos.</p>"
   ]
  },
  {
   "cell_type": "code",
   "execution_count": 4,
   "id": "bf39d4ca",
   "metadata": {},
   "outputs": [
    {
     "data": {
      "text/html": [
       "<div>\n",
       "<style scoped>\n",
       "    .dataframe tbody tr th:only-of-type {\n",
       "        vertical-align: middle;\n",
       "    }\n",
       "\n",
       "    .dataframe tbody tr th {\n",
       "        vertical-align: top;\n",
       "    }\n",
       "\n",
       "    .dataframe thead th {\n",
       "        text-align: right;\n",
       "    }\n",
       "</style>\n",
       "<table border=\"1\" class=\"dataframe\">\n",
       "  <thead>\n",
       "    <tr style=\"text-align: right;\">\n",
       "      <th></th>\n",
       "      <th>MODELYEAR</th>\n",
       "      <th>ENGINESIZE</th>\n",
       "      <th>CYLINDERS</th>\n",
       "      <th>FUELCONSUMPTION_CITY</th>\n",
       "      <th>FUELCONSUMPTION_HWY</th>\n",
       "      <th>FUELCONSUMPTION_COMB</th>\n",
       "      <th>FUELCONSUMPTION_COMB_MPG</th>\n",
       "      <th>CO2EMISSIONS</th>\n",
       "    </tr>\n",
       "  </thead>\n",
       "  <tbody>\n",
       "    <tr>\n",
       "      <th>count</th>\n",
       "      <td>1067.0</td>\n",
       "      <td>1067.000000</td>\n",
       "      <td>1067.000000</td>\n",
       "      <td>1067.000000</td>\n",
       "      <td>1067.000000</td>\n",
       "      <td>1067.000000</td>\n",
       "      <td>1067.000000</td>\n",
       "      <td>1067.000000</td>\n",
       "    </tr>\n",
       "    <tr>\n",
       "      <th>mean</th>\n",
       "      <td>2014.0</td>\n",
       "      <td>3.346298</td>\n",
       "      <td>5.794752</td>\n",
       "      <td>13.296532</td>\n",
       "      <td>9.474602</td>\n",
       "      <td>11.580881</td>\n",
       "      <td>26.441425</td>\n",
       "      <td>256.228679</td>\n",
       "    </tr>\n",
       "    <tr>\n",
       "      <th>std</th>\n",
       "      <td>0.0</td>\n",
       "      <td>1.415895</td>\n",
       "      <td>1.797447</td>\n",
       "      <td>4.101253</td>\n",
       "      <td>2.794510</td>\n",
       "      <td>3.485595</td>\n",
       "      <td>7.468702</td>\n",
       "      <td>63.372304</td>\n",
       "    </tr>\n",
       "    <tr>\n",
       "      <th>min</th>\n",
       "      <td>2014.0</td>\n",
       "      <td>1.000000</td>\n",
       "      <td>3.000000</td>\n",
       "      <td>4.600000</td>\n",
       "      <td>4.900000</td>\n",
       "      <td>4.700000</td>\n",
       "      <td>11.000000</td>\n",
       "      <td>108.000000</td>\n",
       "    </tr>\n",
       "    <tr>\n",
       "      <th>25%</th>\n",
       "      <td>2014.0</td>\n",
       "      <td>2.000000</td>\n",
       "      <td>4.000000</td>\n",
       "      <td>10.250000</td>\n",
       "      <td>7.500000</td>\n",
       "      <td>9.000000</td>\n",
       "      <td>21.000000</td>\n",
       "      <td>207.000000</td>\n",
       "    </tr>\n",
       "    <tr>\n",
       "      <th>50%</th>\n",
       "      <td>2014.0</td>\n",
       "      <td>3.400000</td>\n",
       "      <td>6.000000</td>\n",
       "      <td>12.600000</td>\n",
       "      <td>8.800000</td>\n",
       "      <td>10.900000</td>\n",
       "      <td>26.000000</td>\n",
       "      <td>251.000000</td>\n",
       "    </tr>\n",
       "    <tr>\n",
       "      <th>75%</th>\n",
       "      <td>2014.0</td>\n",
       "      <td>4.300000</td>\n",
       "      <td>8.000000</td>\n",
       "      <td>15.550000</td>\n",
       "      <td>10.850000</td>\n",
       "      <td>13.350000</td>\n",
       "      <td>31.000000</td>\n",
       "      <td>294.000000</td>\n",
       "    </tr>\n",
       "    <tr>\n",
       "      <th>max</th>\n",
       "      <td>2014.0</td>\n",
       "      <td>8.400000</td>\n",
       "      <td>12.000000</td>\n",
       "      <td>30.200000</td>\n",
       "      <td>20.500000</td>\n",
       "      <td>25.800000</td>\n",
       "      <td>60.000000</td>\n",
       "      <td>488.000000</td>\n",
       "    </tr>\n",
       "  </tbody>\n",
       "</table>\n",
       "</div>"
      ],
      "text/plain": [
       "       MODELYEAR   ENGINESIZE    CYLINDERS  FUELCONSUMPTION_CITY  \\\n",
       "count     1067.0  1067.000000  1067.000000           1067.000000   \n",
       "mean      2014.0     3.346298     5.794752             13.296532   \n",
       "std          0.0     1.415895     1.797447              4.101253   \n",
       "min       2014.0     1.000000     3.000000              4.600000   \n",
       "25%       2014.0     2.000000     4.000000             10.250000   \n",
       "50%       2014.0     3.400000     6.000000             12.600000   \n",
       "75%       2014.0     4.300000     8.000000             15.550000   \n",
       "max       2014.0     8.400000    12.000000             30.200000   \n",
       "\n",
       "       FUELCONSUMPTION_HWY  FUELCONSUMPTION_COMB  FUELCONSUMPTION_COMB_MPG  \\\n",
       "count          1067.000000           1067.000000               1067.000000   \n",
       "mean              9.474602             11.580881                 26.441425   \n",
       "std               2.794510              3.485595                  7.468702   \n",
       "min               4.900000              4.700000                 11.000000   \n",
       "25%               7.500000              9.000000                 21.000000   \n",
       "50%               8.800000             10.900000                 26.000000   \n",
       "75%              10.850000             13.350000                 31.000000   \n",
       "max              20.500000             25.800000                 60.000000   \n",
       "\n",
       "       CO2EMISSIONS  \n",
       "count   1067.000000  \n",
       "mean     256.228679  \n",
       "std       63.372304  \n",
       "min      108.000000  \n",
       "25%      207.000000  \n",
       "50%      251.000000  \n",
       "75%      294.000000  \n",
       "max      488.000000  "
      ]
     },
     "execution_count": 4,
     "metadata": {},
     "output_type": "execute_result"
    }
   ],
   "source": [
    "df.describe()"
   ]
  },
  {
   "cell_type": "markdown",
   "id": "3abd1d48",
   "metadata": {},
   "source": [
    "<p Style='text-align: justificar; font-style: normal; font-weight: normal'>Como se menciono el ejercicio considete en poder predicir la cantidad de emisiones de CO2 de los vehiculos en funcion de sus caracteristicas, por esto se realiza un descarte para dejar unicamente las caracteristicas que estan relacionadas con le emision del CO2 en un vehiculo.<br>\n",
    "<br>\n",
    "En este caso, esas variables esrian Enginesize, Cylinders, FuelConsumption, Co2Emissions. particularmente las variable a predecir es CO2Emissions, y las otras variables por su relacion con la emision de CO2 en el motor de un vehiculo podrian funcionar como pariables predictoras, sin embargo hay que analizar una a una para ver su comportamiento y seleccionar la mas adecuada.</p>"
   ]
  },
  {
   "cell_type": "code",
   "execution_count": 5,
   "id": "dcf1074d",
   "metadata": {},
   "outputs": [
    {
     "data": {
      "text/html": [
       "<div>\n",
       "<style scoped>\n",
       "    .dataframe tbody tr th:only-of-type {\n",
       "        vertical-align: middle;\n",
       "    }\n",
       "\n",
       "    .dataframe tbody tr th {\n",
       "        vertical-align: top;\n",
       "    }\n",
       "\n",
       "    .dataframe thead th {\n",
       "        text-align: right;\n",
       "    }\n",
       "</style>\n",
       "<table border=\"1\" class=\"dataframe\">\n",
       "  <thead>\n",
       "    <tr style=\"text-align: right;\">\n",
       "      <th></th>\n",
       "      <th>ENGINESIZE</th>\n",
       "      <th>CYLINDERS</th>\n",
       "      <th>FUELCONSUMPTION_COMB</th>\n",
       "      <th>CO2EMISSIONS</th>\n",
       "    </tr>\n",
       "  </thead>\n",
       "  <tbody>\n",
       "    <tr>\n",
       "      <th>0</th>\n",
       "      <td>2.0</td>\n",
       "      <td>4</td>\n",
       "      <td>8.5</td>\n",
       "      <td>196</td>\n",
       "    </tr>\n",
       "    <tr>\n",
       "      <th>1</th>\n",
       "      <td>2.4</td>\n",
       "      <td>4</td>\n",
       "      <td>9.6</td>\n",
       "      <td>221</td>\n",
       "    </tr>\n",
       "    <tr>\n",
       "      <th>2</th>\n",
       "      <td>1.5</td>\n",
       "      <td>4</td>\n",
       "      <td>5.9</td>\n",
       "      <td>136</td>\n",
       "    </tr>\n",
       "    <tr>\n",
       "      <th>3</th>\n",
       "      <td>3.5</td>\n",
       "      <td>6</td>\n",
       "      <td>11.1</td>\n",
       "      <td>255</td>\n",
       "    </tr>\n",
       "    <tr>\n",
       "      <th>4</th>\n",
       "      <td>3.5</td>\n",
       "      <td>6</td>\n",
       "      <td>10.6</td>\n",
       "      <td>244</td>\n",
       "    </tr>\n",
       "    <tr>\n",
       "      <th>5</th>\n",
       "      <td>3.5</td>\n",
       "      <td>6</td>\n",
       "      <td>10.0</td>\n",
       "      <td>230</td>\n",
       "    </tr>\n",
       "    <tr>\n",
       "      <th>6</th>\n",
       "      <td>3.5</td>\n",
       "      <td>6</td>\n",
       "      <td>10.1</td>\n",
       "      <td>232</td>\n",
       "    </tr>\n",
       "    <tr>\n",
       "      <th>7</th>\n",
       "      <td>3.7</td>\n",
       "      <td>6</td>\n",
       "      <td>11.1</td>\n",
       "      <td>255</td>\n",
       "    </tr>\n",
       "    <tr>\n",
       "      <th>8</th>\n",
       "      <td>3.7</td>\n",
       "      <td>6</td>\n",
       "      <td>11.6</td>\n",
       "      <td>267</td>\n",
       "    </tr>\n",
       "  </tbody>\n",
       "</table>\n",
       "</div>"
      ],
      "text/plain": [
       "   ENGINESIZE  CYLINDERS  FUELCONSUMPTION_COMB  CO2EMISSIONS\n",
       "0         2.0          4                   8.5           196\n",
       "1         2.4          4                   9.6           221\n",
       "2         1.5          4                   5.9           136\n",
       "3         3.5          6                  11.1           255\n",
       "4         3.5          6                  10.6           244\n",
       "5         3.5          6                  10.0           230\n",
       "6         3.5          6                  10.1           232\n",
       "7         3.7          6                  11.1           255\n",
       "8         3.7          6                  11.6           267"
      ]
     },
     "execution_count": 5,
     "metadata": {},
     "output_type": "execute_result"
    }
   ],
   "source": [
    "cdf = df[['ENGINESIZE','CYLINDERS','FUELCONSUMPTION_COMB','CO2EMISSIONS']]\n",
    "cdf.head(9)"
   ]
  },
  {
   "cell_type": "markdown",
   "id": "410f4002",
   "metadata": {},
   "source": [
    "<p Style='text-align: justificar; font-style: normal; font-weight: normal'> Ahora que hemos seleccionado las variables que estan relacionadas con la emision de CO2 en los vehiculos, ahora vamos agraficarlas para conocer su distribucion e iniciar a seleccionar la variable independiente que mejor se ajusta para una prediccion. </p>"
   ]
  },
  {
   "cell_type": "code",
   "execution_count": 6,
   "id": "d00d9e02",
   "metadata": {},
   "outputs": [
    {
     "data": {
      "image/png": "[encoded data removed]",
      "text/plain": [
       "<Figure size 432x288 with 4 Axes>"
      ]
     },
     "metadata": {
      "needs_background": "light"
     },
     "output_type": "display_data"
    }
   ],
   "source": [
    "viz = cdf[['CYLINDERS','ENGINESIZE','CO2EMISSIONS','FUELCONSUMPTION_COMB']]\n",
    "viz.hist()\n",
    "plt.show()"
   ]
  },
  {
   "cell_type": "markdown",
   "id": "3f08a04d",
   "metadata": {},
   "source": [
    "<p Style='text-align: justificar; font-style: normal; font-weight: normal'>Como la visualizacion nos da una nocion pero no lo suficientemente buena de su distribucion vamos a realizar una graficacion para conocer como estan distribuidas estas variables y de esta forma seleccionar la mas adecuada para el modelo de regresion lineal.<br>\n",
    "<br>\n",
    "Para conocer esto, vamos a generar una grafica de dispercion para conocer la relacion que existe entre cada una de las variables independientes con la variable dependiente, siendo que atra ves de esto se busca una distribucion homogenea en los datos y no una ditribucion que se dibuja como una linea.</p>"
   ]
  },
  {
   "cell_type": "code",
   "execution_count": 7,
   "id": "891742ab",
   "metadata": {},
   "outputs": [
    {
     "data": {
      "image/png": "[encoded data removed]",
      "text/plain": [
       "<Figure size 432x288 with 1 Axes>"
      ]
     },
     "metadata": {
      "needs_background": "light"
     },
     "output_type": "display_data"
    }
   ],
   "source": [
    "plt.scatter(cdf.FUELCONSUMPTION_COMB, cdf.CO2EMISSIONS,  color='blue')\n",
    "plt.xlabel(\"FUELCONSUMPTION_COMB\")\n",
    "plt.ylabel(\"Emission\")\n",
    "plt.show()"
   ]
  },
  {
   "cell_type": "markdown",
   "id": "96cf02fb",
   "metadata": {},
   "source": [
    "<p Style='text-align: justificar; font-style: normal; font-weight: normal'> Como se puede apreciar la grafica dibuja lineas diagonales, esto quiere decir, que los datos contenidos en esa variable no disponen de una distribucion adecuada para disenar el modelo predictivo. Por lo tanto esta variable queda descartada como predictora. </p>"
   ]
  },
  {
   "cell_type": "code",
   "execution_count": 8,
   "id": "618147ce",
   "metadata": {},
   "outputs": [
    {
     "data": {
      "image/png": "[encoded data removed]",
      "text/plain": [
       "<Figure size 432x288 with 1 Axes>"
      ]
     },
     "metadata": {
      "needs_background": "light"
     },
     "output_type": "display_data"
    }
   ],
   "source": [
    "plt.scatter(cdf.FUELCONSUMPTION_COMB, cdf.CYLINDERS,  color='blue')\n",
    "plt.xlabel(\"FUELCONSUMPTION_COMB\")\n",
    "plt.ylabel(\"CYLINDERS\")\n",
    "plt.show()"
   ]
  },
  {
   "cell_type": "markdown",
   "id": "242d154b",
   "metadata": {},
   "source": [
    "<p Style='text-align: justificar; font-style: normal; font-weight: normal'> Como se puede apreciar la grafica dibuja lineas horizontales, esto quiere decir, que los datos contenidos en esa variable no disponen de una distribucion adecuada para disenar el modelo predictivo. Por lo tanto esta variable queda descartada como predictora.</p>"
   ]
  },
  {
   "cell_type": "code",
   "execution_count": 9,
   "id": "07f29009",
   "metadata": {},
   "outputs": [
    {
     "data": {
      "image/png": "[encoded data removed]",
      "text/plain": [
       "<Figure size 432x288 with 1 Axes>"
      ]
     },
     "metadata": {
      "needs_background": "light"
     },
     "output_type": "display_data"
    }
   ],
   "source": [
    "plt.scatter(cdf.FUELCONSUMPTION_COMB, cdf.ENGINESIZE,  color='blue')\n",
    "plt.xlabel(\"FUELCONSUMPTION_COMB\")\n",
    "plt.ylabel(\"ENGINESIZE\")\n",
    "plt.show()"
   ]
  },
  {
   "cell_type": "markdown",
   "id": "16590a14",
   "metadata": {},
   "source": [
    "<p Style='text-align: justificar; font-style: normal; font-weight: normal'> Al relacionar las varioables de ENGINESIZE y FUELCONSUMPTION_COMB, en su relacion genera la distribucion buscada, de manera que el modelo pueda conocer a traves de cada uno de los datos de los vehiculos cual podria ser el emision de CO2 en funcion del tamano del motor. por lo tanto esta variable entre las seleccionadas es la que mejor se ajusta para realizar el modelo predictivo.</p>"
   ]
  },
  {
   "cell_type": "markdown",
   "id": "c4f2bb93",
   "metadata": {},
   "source": [
    "<h4 Style='color:#ecbd5c'>Preparando el modelo de regresion lineal</h4>\n",
    "<p Style='text-align: justificar; font-style: normal; font-weight: normal'>Una vez transitada la etapa de analisis de datos y seleccion de las variables a utilizar en el modelo de regresion lineal se procede con la creacion de los set de datos de entrenamiento y pruebas.<br>\n",
    "<br>\n",
    "Train/Test Split implica dividir el conjunto de datos en conjuntos de entrenamiento y prueba que son mutuamente excluyentes. Después de lo cual, entrena con el conjunto de entrenamiento y prueba con el conjunto de prueba. Esto proporcionará una evaluación más precisa de la precisión fuera de la muestra porque el conjunto de datos de prueba no forma parte del conjunto de datos que se utilizó para entrenar el modelo. Por lo tanto, nos da una mejor comprensión de qué tan bien generaliza nuestro modelo en nuevos datos.<br>\n",
    "<br>\n",
    "Esto significa que conocemos el resultado de cada punto de datos en el conjunto de datos de prueba, ¡lo que lo hace genial para probar! Dado que estos datos no se han utilizado para entrenar el modelo, el modelo no tiene conocimiento del resultado de estos puntos de datos. Entonces, en esencia, es realmente una prueba fuera de muestra. <br>\n",
    "<br>\n",
    "Dividamos nuestro conjunto de datos en conjuntos de entrenamiento y prueba. El 80 % de todo el conjunto de datos se utilizará para entrenamiento y el 20 % para pruebas. Creamos una máscara para seleccionar filas aleatorias usando la función np.random.rand():<br>\n",
    "   <br>\n",
    "    <td Style='text-align: justify; font-style: normal; font-weight: normal'><a href=\\\"https://www.aprendemachinelearning.com/sets-de-entrenamiento-test-validacion -cruzada/\\\">Informacion sobre set de entrenamiento y pruebas</a></td>\n",
    "     <td Style='text-align: justificar; font-style: normal; font-weight: normal'> Instruccion: Por favor proceda a realizar la lectura del enlace adjunto para un mayor entendimiento de la funcionalidad, asimismo, en caso de ser necesario proceda a realizar una indagacion adicional.</td>"
   ]
  },
  {
   "cell_type": "code",
   "execution_count": 10,
   "id": "447b1ea3",
   "metadata": {},
   "outputs": [],
   "source": [
    "msk = np.random.rand(len(df)) < 0.8 #Esto selecciona aleatoriamente el 80% de las observaciones y la amacena en msk\n",
    "train = cdf[msk] #aca se indica que el set de entrenamiento esta conformado por el 80% de las observaciones\n",
    "test = cdf[~msk] #aca se especifica que el set de prueba esta conformado por el 20% de la data restante."
   ]
  },
  {
   "cell_type": "markdown",
   "id": "e7324e33",
   "metadata": {},
   "source": [
    "<p Style='text-align: justificar; font-style: normal; font-weight: normal'>Ahora debemos conocer si el set de entrenamiento dispone de una distribucion en sus datos similar al ejercicio realizado con cada una de las variables predictoras. El resultado esperado es que la distribucion sea similar a la grafica anterior.</p>"
   ]
  },
  {
   "cell_type": "code",
   "execution_count": 11,
   "id": "cb13b1d9",
   "metadata": {},
   "outputs": [
    {
     "data": {
      "image/png": "[encoded data removed]",
      "text/plain": [
       "<Figure size 432x288 with 1 Axes>"
      ]
     },
     "metadata": {
      "needs_background": "light"
     },
     "output_type": "display_data"
    }
   ],
   "source": [
    "plt.scatter(train.ENGINESIZE, train.CO2EMISSIONS,  color='blue')\n",
    "plt.xlabel(\"Engine size\")\n",
    "plt.ylabel(\"Emission\")\n",
    "plt.show()"
   ]
  },
  {
   "cell_type": "markdown",
   "id": "6de0fdc1",
   "metadata": {},
   "source": [
    "<h4 Style='color:#ecbd5c'>Generación del modelo de Regresión Lineal<h4>\n",
    "<p Style='text-align: justificar; font-style: normal; font-weight: normal'> Con base en lo anterior, la variable seleccionada, y la division del set de datos en un set de entrenamiento (que avarca el 80% de los datos) y el set de pruebas (conformado por el 20% de los datos), se procede a crear el modelo de regresion lineal simple.<br>\n",
    "<br>\n",
    "Cabe destacar que este modelo se encuentra previamente programado dentro de la libreria Skelearn, de manera que una vez seleccionadas las variables correctas se procede a alimentar los parametros para generar las predicciones.</p>"
   ]
  },
  {
   "cell_type": "code",
   "execution_count": 12,
   "id": "70fe7557",
   "metadata": {},
   "outputs": [
    {
     "name": "stdout",
     "output_type": "stream",
     "text": [
      "Coefficients:  [[39.60735579]]\n",
      "Intercept:  [124.30478859]\n"
     ]
    }
   ],
   "source": [
    "regr = linear_model.LinearRegression()\n",
    "train_x = np.asanyarray(train[['ENGINESIZE']])\n",
    "train_y = np.asanyarray(train[['CO2EMISSIONS']])\n",
    "regr.fit(train_x, train_y)\n",
    "# Obtener coeficientes de resultados, estos datos son informativos.\n",
    "print ('Coefficients: ', regr.coef_)\n",
    "print ('Intercept: ',regr.intercept_)"
   ]
  },
  {
   "cell_type": "markdown",
   "id": "e079cfac",
   "metadata": {},
   "source": [
    "<p>Los **Coeficiente** e **Intersección** en la regresión lineal simple, son los parámetros de la línea de ajuste. Dado que es una regresión lineal simple, con solo 2 parámetros, y sabiendo que los parámetros son el intercepto y la pendiente de la línea, sklearn puede estimarlos directamente a partir de nuestros datos.<br>\n",
    "<br>\n",
    "Ahora vamos a proceder a graficar la linea regresora, con el proposito que se disponga de una mejor visualizacion</p>"
   ]
  },
  {
   "cell_type": "code",
   "execution_count": 13,
   "id": "4bc85772",
   "metadata": {},
   "outputs": [
    {
     "data": {
      "text/plain": [
       "Text(0, 0.5, 'Emission')"
      ]
     },
     "execution_count": 13,
     "metadata": {},
     "output_type": "execute_result"
    },
    {
     "data": {
      "image/png": "[encoded data removed]",
      "text/plain": [
       "<Figure size 432x288 with 1 Axes>"
      ]
     },
     "metadata": {
      "needs_background": "light"
     },
     "output_type": "display_data"
    }
   ],
   "source": [
    "plt.scatter(train.ENGINESIZE, train.CO2EMISSIONS,  color='blue')\n",
    "plt.plot(train_x, regr.coef_[0][0]*train_x + regr.intercept_[0], '-r')\n",
    "plt.xlabel(\"Engine size\")\n",
    "plt.ylabel(\"Emission\")"
   ]
  },
  {
   "cell_type": "markdown",
   "id": "2b0a7eee",
   "metadata": {},
   "source": [
    "<p>Evaluación Comparamos los valores reales y los valores pronosticados para calcular la precisión de un modelo de regresión. Las métricas de evaluación desempeñan un papel clave en el desarrollo de un modelo, ya que brindan información sobre las áreas que requieren mejoras.<br>\n",
    "<br>\n",
    "Hay diferentes métricas de evaluación del modelo, usemos MSE aquí para calcular la precisión de nuestro modelo en función del conjunto de prueba:<br>\n",
    "<br>\n",
    "Error Absoluto Medio: Es la media del valor absoluto de los errores. Esta es la métrica más fácil de entender, ya que es solo un error promedio.<br>\n",
    "<br>\n",
    "Error cuadrático medio (MSE): El error cuadrático medio (MSE) es la media del error cuadrático. Es más popular que Mean Absolute Error porque el enfoque está más orientado hacia errores grandes. Esto se debe a que el término al cuadrado aumenta exponencialmente los errores más grandes en comparación con los más pequeños.<br>\n",
    "<br>\n",
    "Error cuadrático medio (RMSE).<br>\n",
    "<br>\n",
    "R-squared no es un error, sino una métrica popular para medir el rendimiento de su modelo de regresión. Representa qué tan cerca están los puntos de datos de la línea de regresión ajustada. Cuanto mayor sea el valor de R-cuadrado, mejor se ajustará el modelo a sus datos. La mejor puntuación posible es 1,0 y puede ser negativa (porque el modelo puede ser arbitrariamente peor). </p>"
   ]
  },
  {
   "cell_type": "code",
   "execution_count": 14,
   "id": "9c97b157",
   "metadata": {},
   "outputs": [
    {
     "name": "stdout",
     "output_type": "stream",
     "text": [
      "Mean absolute error: 22.84\n",
      "Residual sum of squares (MSE): 860.82\n",
      "R2-score: 0.74\n"
     ]
    }
   ],
   "source": [
    "from sklearn.metrics import r2_score\n",
    "\n",
    "test_x = np.asanyarray(test[['ENGINESIZE']])\n",
    "test_y = np.asanyarray(test[['CO2EMISSIONS']])\n",
    "test_y_ = regr.predict(test_x)\n",
    "\n",
    "print(\"Mean absolute error: %.2f\" % np.mean(np.absolute(test_y_ - test_y)))\n",
    "print(\"Residual sum of squares (MSE): %.2f\" % np.mean((test_y_ - test_y) ** 2))\n",
    "print(\"R2-score: %.2f\" % r2_score(test_y , test_y_) )"
   ]
  },
  {
   "cell_type": "markdown",
   "id": "51fafbe3",
   "metadata": {},
   "source": [
    "<h4 Style='color:#ecbd5c'>Visualización de los resultados<h4>\n",
    "<p Style='text-align: justificar; font-style: normal; font-weight: normal'>Con el modelo generado, y las predicciones realizadas, se procede a crear una visualizacion de los resultados obtenidos, esto conciderando que particularmente en este caso se logran explicar el 77% de las observaciones disponibles en el set.</p><br>\n",
    "    <br>\n",
    "     <td Style='text-align: justify; font-style: normal; font-weight: normal'><a href=\\\"https://aprendeia.com/algoritmo-regresion-lineal-simple-machine-learning -practica-con-python/\\\">Otro ejercicio para consultar</a></td>\n",
    "    \t<p Style='text-align: justificar; font-style: normal; font-weight: normal'>Adicional a la revision del ejercicio complementario facilitado, se le solicita que realice una indagacion sobre las formas existentes para mostrar los resultados de las regresiones lineales simples.</p>"
   ]
  },
  {
   "cell_type": "code",
   "execution_count": 15,
   "id": "deaae6ed",
   "metadata": {},
   "outputs": [
    {
     "data": {
      "text/html": [
       "<div>\n",
       "<style scoped>\n",
       "    .dataframe tbody tr th:only-of-type {\n",
       "        vertical-align: middle;\n",
       "    }\n",
       "\n",
       "    .dataframe tbody tr th {\n",
       "        vertical-align: top;\n",
       "    }\n",
       "\n",
       "    .dataframe thead th {\n",
       "        text-align: right;\n",
       "    }\n",
       "</style>\n",
       "<table border=\"1\" class=\"dataframe\">\n",
       "  <thead>\n",
       "    <tr style=\"text-align: right;\">\n",
       "      <th></th>\n",
       "      <th>Actual</th>\n",
       "      <th>Predicted</th>\n",
       "    </tr>\n",
       "  </thead>\n",
       "  <tbody>\n",
       "    <tr>\n",
       "      <th>0</th>\n",
       "      <td>230</td>\n",
       "      <td>262.930534</td>\n",
       "    </tr>\n",
       "    <tr>\n",
       "      <th>1</th>\n",
       "      <td>212</td>\n",
       "      <td>219.362442</td>\n",
       "    </tr>\n",
       "    <tr>\n",
       "      <th>2</th>\n",
       "      <td>225</td>\n",
       "      <td>219.362442</td>\n",
       "    </tr>\n",
       "    <tr>\n",
       "      <th>3</th>\n",
       "      <td>239</td>\n",
       "      <td>262.930534</td>\n",
       "    </tr>\n",
       "    <tr>\n",
       "      <th>4</th>\n",
       "      <td>230</td>\n",
       "      <td>203.519500</td>\n",
       "    </tr>\n",
       "    <tr>\n",
       "      <th>5</th>\n",
       "      <td>230</td>\n",
       "      <td>203.519500</td>\n",
       "    </tr>\n",
       "    <tr>\n",
       "      <th>6</th>\n",
       "      <td>260</td>\n",
       "      <td>282.734212</td>\n",
       "    </tr>\n",
       "    <tr>\n",
       "      <th>7</th>\n",
       "      <td>227</td>\n",
       "      <td>243.126856</td>\n",
       "    </tr>\n",
       "    <tr>\n",
       "      <th>8</th>\n",
       "      <td>242</td>\n",
       "      <td>203.519500</td>\n",
       "    </tr>\n",
       "    <tr>\n",
       "      <th>9</th>\n",
       "      <td>258</td>\n",
       "      <td>243.126856</td>\n",
       "    </tr>\n",
       "  </tbody>\n",
       "</table>\n",
       "</div>"
      ],
      "text/plain": [
       "   Actual   Predicted\n",
       "0     230  262.930534\n",
       "1     212  219.362442\n",
       "2     225  219.362442\n",
       "3     239  262.930534\n",
       "4     230  203.519500\n",
       "5     230  203.519500\n",
       "6     260  282.734212\n",
       "7     227  243.126856\n",
       "8     242  203.519500\n",
       "9     258  243.126856"
      ]
     },
     "execution_count": 15,
     "metadata": {},
     "output_type": "execute_result"
    }
   ],
   "source": [
    "df = pd.DataFrame({'Actual': test_y.flatten(), 'Predicted': test_y_.flatten()})\n",
    "df.head(10)"
   ]
  },
  {
   "cell_type": "code",
   "execution_count": 16,
   "id": "ec1a4cc5",
   "metadata": {},
   "outputs": [
    {
     "data": {
      "image/png": "[encoded data removed]",
      "text/plain": [
       "<Figure size 1152x720 with 1 Axes>"
      ]
     },
     "metadata": {
      "needs_background": "light"
     },
     "output_type": "display_data"
    }
   ],
   "source": [
    "df1 = df.head(10)\n",
    "df1.plot(kind='bar',figsize=(16,10))\n",
    "plt.grid(which='major', linestyle='-', linewidth='0.5', color='green')\n",
    "plt.grid(which='minor', linestyle=':', linewidth='0.5', color='black')\n",
    "plt.show()"
   ]
  },
  {
   "cell_type": "code",
   "execution_count": null,
   "id": "88327a31",
   "metadata": {},
   "outputs": [],
   "source": []
  }
 ],
 "metadata": {
  "kernelspec": {
   "display_name": "Python 3 (ipykernel)",
   "language": "python",
   "name": "python3"
  },
  "language_info": {
   "codemirror_mode": {
    "name": "ipython",
    "version": 3
   },
   "file_extension": ".py",
   "mimetype": "text/x-python",
   "name": "python",
   "nbconvert_exporter": "python",
   "pygments_lexer": "ipython3",
   "version": "3.9.12"
  }
 },
 "nbformat": 4,
 "nbformat_minor": 5
}
