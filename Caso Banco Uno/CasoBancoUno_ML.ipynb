{
 "cells": [
  {
   "cell_type": "markdown",
   "id": "9896b335",
   "metadata": {},
   "source": [
    "<center><h2 Style='color:#81D4FA'>Caso de Estudio: BANCO UNO</h2></center>\n",
    "<center><h2 Style='color:#81D4FA'>Universidad Castro Carazo</h2></center>\n",
    "<center><h2 Style='color:#81D4FA'>Programa Técnico de Análisis de Datos</h2></center>"
   ]
  },
  {
   "cell_type": "markdown",
   "id": "6ed23adb",
   "metadata": {},
   "source": [
    "<center><h3 Style='color:#29B6F6'>Curso: Introducción a Machine Learning</h3></center>\n",
    "<center><h3 Style='color:#29B6F6'>Estudiante: Wendy Venegas Quiros</h3></center>\n",
    "\n",
    "<center><h3 Style='color:#29B6F6'> Objetivo: Diseñar o implementar una solucion mediante el cual se facilite la toma de decisiones respecto al proceso de otorgamiento de creditos. El sentido es lograr determinar si un credito debe ser otorgado o no, donde se utilice una herramienta informatica como apoyo para la creacion de modelos predictivos.</h3>"
   ]
  },
  {
   "cell_type": "markdown",
   "id": "0c124b3b",
   "metadata": {},
   "source": [
    "<center><h5 Style='color:#01579B'> Definiendo el Proceso para el diseño del algoritmo de Machine Learning</h5></center>\n",
    "\n",
    "<h6 Style='color:#01579B'>Conociendo los datos y su dominio.</h6>\n",
    "\n",
    "<u><p>Información del conjunto de datos:</u></p>\n",
    "\n",
    "<p Style='text-align: justify'>Esta investigación se centró en el caso de los pagos por defecto de los clientes de Banco Uno y compara la precisión predictiva de la probabilidad de incumplimiento entre seis métodos de minería de datos.<br>\n",
    "<br>\n",
    "De la perspectiva de la gestión de riesgos, el resultado de la precisión predictiva de la estimación La probabilidad de incumplimiento será más valiosa que el resultado binario de la clasificación de Clientes creíbles o no creíbles.<br>\n",
    "<br>\n",
    "Debido a que se desconoce la probabilidad real de incumplimiento, este estudio presentó el novedoso método de clasificación de suavizado para estimar la probabilidad real de defecto. Con la probabilidad real de incumplimiento como variable de respuesta (Y), y la probabilidad predictiva de incumplimiento como la variable independiente (X), la simple lineal El resultado de la regresión (Y = A + BX) muestra que el modelo de pronóstico producido por la red neuronal tiene el coeficiente de determinación más alto; su intersección de regresión (A) es cercano a cero y coeficiente de regresión (B) a uno. Por lo tanto, entre los seis datos de minería técnicas, la red neuronal artificial es la única que puede estimar con precisión el valor real probabilidad de incumplimiento.</p><br>\n",
    "<br>\n",
    "<u><p>Información de los atributos:</u></p>\n",
    "\n",
    "<p Style='text-align: justify'>NOTA: La siguiente es información actualizada del autor de la fuente.<br>\n",
    "<br>\n",
    "Esta investigación empleó una variable binaria, pago predeterminado (Sí = 1, No = 0), como variable de respuesta. Este estudio revisó la literatura y utilizó las siguientes 23 variables como variables explicativas:<br>\n",
    "<br>\n",
    "X1: Monto del crédito otorgado (dólar NT): incluye tanto al consumidor individual crédito y su crédito familiar (complementario).<br>\n",
    "<br>\n",
    "X2: Género (1 = masculino; 2 = femenino).<br>\n",
    "<br>\n",
    "X3: Educación (1 = posgrado; 2 = universidad; 3 = bachillerato; 0, 4, 5, 6 = otros).<br>\n",
    "<br>\n",
    "X4: Estado civil (1 = casado; 2 = soltero; 3 = divorciado; 0 = otros).<br>\n",
    "<br>\n",
    "X5: Edad (año).<br>\n",
    "<br>\n",
    "X6 - X11: Historial de pagos pasados. Realizamos un seguimiento de los últimos registros de pagos mensuales (desde Abril a septiembre de 2005) de la siguiente manera: X6 = el estado de reembolso en septiembre de 2005; X7 = el estado de reembolso en agosto de 2005; . . .; X11 = el estado de reembolso en abril de 2005.<br>\n",
    "<br>\n",
    "La escala de medición para el estado de reembolso es:<br>\n",
    "<br>\n",
    "2: Sin consumo; -1: pagado en su totalidad; 0: El uso de crédito renovable; 1 = retraso en el pago por un mes; 2 = retraso en el pago de dos meses; . . .; 8 = retraso en el pago de ocho meses; 9 = retraso en el pago de nueve meses o más.<br>\n",
    " <br>\n",
    "X12-X17: Monto del extracto de la factura (dólar NT). X12 = monto del extracto de la factura en Septiembre de 2005; X13 = monto del estado de cuenta en agosto de 2005; . . .; X17 = cantidad de estado de cuenta en abril de 2005.<br>\n",
    "<br>\n",
    "X18-X23: Monto del pago anterior (dólar NT). X18 = monto pagado en septiembre, 2005; X19 = monto pagado en agosto de 2005; . . .; X23 = monto pagado en abril de 2005.<br>\n",
    "<br>\n",
    "Y: comportamiento del cliente; Y = 0 entonces no predeterminado, Y = 1 luego predeterminado \"<br>"
   ]
  },
  {
   "cell_type": "markdown",
   "id": "23b245bf",
   "metadata": {},
   "source": [
    "<h6 Style='color:#01579B'> Cargando y Examinando los datos.</h6>"
   ]
  },
  {
   "cell_type": "code",
   "execution_count": 17,
   "id": "b98c661a",
   "metadata": {},
   "outputs": [],
   "source": [
    "from sqlalchemy import create_engine\n",
    "import pymysql\n",
    "import pandas as pd"
   ]
  },
  {
   "cell_type": "code",
   "execution_count": 20,
   "id": "60e4f30d",
   "metadata": {},
   "outputs": [],
   "source": [
    "db_connection = pymysql.connect(host='data-analytics-2018.cbrosir2cswx.us-east-1.rds.amazonaws.com',\n",
    "user='deepAnalytics',\n",
    "password='Sqltask1234!',\n",
    "database='Credit',\n",
    "charset='utf8mb4',\n",
    "cursorclass=pymysql.cursors.DictCursor)"
   ]
  },
  {
   "cell_type": "code",
   "execution_count": 21,
   "id": "bdec49b3",
   "metadata": {},
   "outputs": [
    {
     "name": "stderr",
     "output_type": "stream",
     "text": [
      "C:\\Users\\bryan\\anaconda3\\lib\\site-packages\\pandas\\io\\sql.py:761: UserWarning: pandas only support SQLAlchemy connectable(engine/connection) ordatabase string URI or sqlite3 DBAPI2 connectionother DBAPI2 objects are not tested, please consider using SQLAlchemy\n",
      "  warnings.warn(\n"
     ]
    }
   ],
   "source": [
    "df = pd.read_sql('SELECT * FROM credit', con=db_connection)"
   ]
  },
  {
   "cell_type": "code",
   "execution_count": 23,
   "id": "53d066a4",
   "metadata": {},
   "outputs": [],
   "source": [
    "df. to_csv ( 'BancoUno.csv' , header = False , index = False )"
   ]
  },
  {
   "cell_type": "code",
   "execution_count": null,
   "id": "5cc9d57a",
   "metadata": {},
   "outputs": [],
   "source": []
  }
 ],
 "metadata": {
  "kernelspec": {
   "display_name": "Python 3 (ipykernel)",
   "language": "python",
   "name": "python3"
  },
  "language_info": {
   "codemirror_mode": {
    "name": "ipython",
    "version": 3
   },
   "file_extension": ".py",
   "mimetype": "text/x-python",
   "name": "python",
   "nbconvert_exporter": "python",
   "pygments_lexer": "ipython3",
   "version": "3.9.12"
  }
 },
 "nbformat": 4,
 "nbformat_minor": 5
}
